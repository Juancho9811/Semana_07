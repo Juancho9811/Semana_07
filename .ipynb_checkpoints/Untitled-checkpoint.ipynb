{
 "cells": [
  {
   "cell_type": "code",
   "execution_count": 23,
   "metadata": {},
   "outputs": [
    {
     "data": {
      "text/plain": [
       "True"
      ]
     },
     "execution_count": 23,
     "metadata": {},
     "output_type": "execute_result"
    }
   ],
   "source": [
    "True and True"
   ]
  },
  {
   "cell_type": "code",
   "execution_count": 25,
   "metadata": {},
   "outputs": [
    {
     "data": {
      "text/plain": [
       "False"
      ]
     },
     "execution_count": 25,
     "metadata": {},
     "output_type": "execute_result"
    }
   ],
   "source": [
    "True and False"
   ]
  },
  {
   "cell_type": "code",
   "execution_count": 27,
   "metadata": {},
   "outputs": [
    {
     "data": {
      "text/plain": [
       "True"
      ]
     },
     "execution_count": 27,
     "metadata": {},
     "output_type": "execute_result"
    }
   ],
   "source": [
    "True or True"
   ]
  },
  {
   "cell_type": "code",
   "execution_count": 29,
   "metadata": {},
   "outputs": [
    {
     "data": {
      "text/plain": [
       "True"
      ]
     },
     "execution_count": 29,
     "metadata": {},
     "output_type": "execute_result"
    }
   ],
   "source": [
    "True or False"
   ]
  },
  {
   "cell_type": "code",
   "execution_count": 33,
   "metadata": {},
   "outputs": [],
   "source": [
    "numero = 10\n",
    "#numero > 5 and numero < 15\n",
    "#numero > 11 and numero < 20"
   ]
  },
  {
   "cell_type": "code",
   "execution_count": 34,
   "metadata": {},
   "outputs": [
    {
     "data": {
      "text/plain": [
       "5"
      ]
     },
     "execution_count": 34,
     "metadata": {},
     "output_type": "execute_result"
    }
   ],
   "source": [
    "lista = [1,2,3,4,5]\n",
    "len( lista )"
   ]
  },
  {
   "cell_type": "code",
   "execution_count": 38,
   "metadata": {},
   "outputs": [
    {
     "name": "stdout",
     "output_type": "stream",
     "text": [
      " Digite un valor: 8\n",
      " Digite otro valor: 5\n",
      " 8 es mayor que 5  \n"
     ]
    }
   ],
   "source": [
    "dato = int( input( \" Digite un valor: \" ) )\n",
    "while( dato < 0 ):\n",
    "    print( \" \\nEl valor debe ser positivo \" )\n",
    "    dato = int( input( \" Digite de nuevo el valor: \" ) )\n",
    "\n",
    "dato_1 = int( input( \" Digite otro valor: \" ) )\n",
    "while( dato_1 < 0 ):\n",
    "    print( \" \\nEl valor debe ser positivo \" )\n",
    "    dato_1 = int( input( \" Digite de nuevo el valor: \" ) )\n",
    "\n",
    "if( dato > dato_1 ):\n",
    "    print( f\" { dato } es mayor que { dato_1 }  \" )\n",
    "else:\n",
    "    print( f\" { dato_1 } es mayor que { dato } \" )"
   ]
  },
  {
   "cell_type": "code",
   "execution_count": null,
   "metadata": {},
   "outputs": [
    {
     "name": "stdout",
     "output_type": "stream",
     "text": [
      " Escoge tu camino :-D \n",
      " Digite la palabra [ empezar ] para comenzar: empezar\n",
      " Escribio la palabra correcta :D\n",
      "    ¿Que camino quiere escoger?\n",
      "    1.- Quiero que me saludes.\n",
      "    2.- ¿Quiero hacer una multiplicar uu?\n",
      "    3.- Terminar el camino\n",
      " Digite una de las 3 opciones: 1\n",
      " Debe elegir entre las 3 opciones: \n",
      " Digite una de las 3 opciones: 2\n",
      " Eligio la opcion 2: \n",
      " Digite un numero: 3\n"
     ]
    }
   ],
   "source": [
    "print( \" Escoge tu camino :-D \" )\n",
    "punto_partida = input( \" Digite la palabra [ empezar ] para comenzar: \" )\n",
    "while( punto_partida == 'empezar' ):\n",
    "    print( \"\"\" Escribio la palabra correcta :D\n",
    "    ¿Que camino quiere escoger?\n",
    "    1.- Quiero que me saludes.\n",
    "    2.- ¿Quiero hacer una multiplicar uu?\n",
    "    3.- Terminar el camino\"\"\" )\n",
    "    #punto_partida = input( \" Digite la palabra [ empezar ] para comenzar: \" )\n",
    "    opcion = input( \" Digite una de las 3 opciones: \" )\n",
    "    print( \" Debe elegir entre las 3 opciones: \" )\n",
    "    opcion = input( \" Digite una de las 3 opciones: \" )\n",
    "    if( opcion == '1' ):\n",
    "        print( \" Eligio la opcion 1: \" )\n",
    "        print( \" *Te saludo* \" )\n",
    "    elif( opcion == '2' ):\n",
    "        print( \" Eligio la opcion 2: \" )\n",
    "        numero_1 = float( input( \" Digite un numero: \" ) )\n",
    "        numero_2 = float( input( \" Digite otro numero: \" ) )\n",
    "        \n",
    "        resultado = numero_1 * numero_2\n",
    "        \n",
    "        print( f\" El resultado de la multiplicacion es: { resultado }  \" )\n",
    "    elif( opcion == '3' ):\n",
    "        print( \" Eligio la opcion 3: \" )\n",
    "        print( \" Acabo, gracias :,v \" )"
   ]
  },
  {
   "cell_type": "code",
   "execution_count": null,
   "metadata": {},
   "outputs": [],
   "source": []
  }
 ],
 "metadata": {
  "kernelspec": {
   "display_name": "Python 3",
   "language": "python",
   "name": "python3"
  },
  "language_info": {
   "codemirror_mode": {
    "name": "ipython",
    "version": 3
   },
   "file_extension": ".py",
   "mimetype": "text/x-python",
   "name": "python",
   "nbconvert_exporter": "python",
   "pygments_lexer": "ipython3",
   "version": "3.8.3"
  }
 },
 "nbformat": 4,
 "nbformat_minor": 4
}
