{
 "cells": [
  {
   "cell_type": "code",
   "execution_count": 1,
   "metadata": {},
   "outputs": [
    {
     "name": "stdout",
     "output_type": "stream",
     "text": [
      " Digite un numero de elementos: -24\n",
      " ---------------------------------------------- \n",
      " La cantidad de elementos no puede ser negativa \n",
      " ---------------------------------------------- \n",
      " Digite de nuevo la cantidad de elementos: 24\n",
      " Digite un numero en la posicion 0 : 5876\n",
      " Digite un numero en la posicion 1 : 58701\n",
      " Digite un numero en la posicion 2 : 63288\n",
      " Digite un numero en la posicion 3 : 4785\n",
      " Digite un numero en la posicion 4 : 25041\n",
      " Digite un numero en la posicion 5 : 11\n",
      " Digite un numero en la posicion 6 : 5894\n",
      " Digite un numero en la posicion 7 : 536\n",
      " Digite un numero en la posicion 8 : 78249\n",
      " Digite un numero en la posicion 9 : 9991\n",
      " Digite un numero en la posicion 10 : 12548\n",
      " Digite un numero en la posicion 11 : 1235\n",
      " Digite un numero en la posicion 12 : 12458\n",
      " Digite un numero en la posicion 13 : 11914\n",
      " Digite un numero en la posicion 14 : 24578\n",
      " Digite un numero en la posicion 15 : 1247\n",
      " Digite un numero en la posicion 16 : 63258\n",
      " Digite un numero en la posicion 17 : 1478\n",
      " Digite un numero en la posicion 18 : 225\n",
      " Digite un numero en la posicion 19 : 36992\n",
      " Digite un numero en la posicion 20 : 8456\n",
      " Digite un numero en la posicion 21 : 21345\n",
      " Digite un numero en la posicion 22 : 7748\n",
      " Digite un numero en la posicion 23 : 12042\n",
      " Lista Desordenada \n",
      "[5876, 58701, 63288, 4785, 25041, 11, 5894, 536, 78249, 9991, 12548, 1235, 12458, 11914, 24578, 1247, 63258, 1478, 225, 36992, 8456, 21345, 7748, 12042]\n",
      " Lista Ordenada por el Metodo Burbuja \n",
      "[11, 225, 536, 1235, 1247, 1478, 4785, 5876, 5894, 7748, 8456, 9991, 11914, 12042, 12458, 12548, 21345, 24578, 25041, 36992, 58701, 63258, 63288, 78249]\n"
     ]
    }
   ],
   "source": [
    "lista = []\n",
    "\n",
    "numero_de_elementos = int( input( \" Digite un numero de elementos: \" ) )\n",
    "while ( numero_de_elementos < 0 ):\n",
    "    print( \" ---------------------------------------------- \" )\n",
    "    print( \" La cantidad de elementos no puede ser negativa \" )\n",
    "    print( \" ---------------------------------------------- \" )\n",
    "    numero_de_elementos = int( input( \" Digite de nuevo la cantidad de elementos: \" ) )\n",
    "\n",
    "for i in range( numero_de_elementos ):\n",
    "    valor = int( input( f\" Digite un numero en la posicion { i } : \" ) )\n",
    "    lista.append( valor )\n",
    "\n",
    "def Metodo_Burbuja( lista ):\n",
    "    for pasanum in range( len(lista)-1,0,-1 ):\n",
    "        for i in range(pasanum):\n",
    "            if lista[i] > lista[i+1]:\n",
    "                aux = lista[i]\n",
    "                lista[i] = lista[i+1]\n",
    "                lista[i+1] = aux\n",
    "    print(lista)\n",
    "\n",
    "print( \" Lista Desordenada \" )\n",
    "print( lista )\n",
    "print( \" Lista Ordenada por el Metodo Burbuja \" )\n",
    "Metodo_Burbuja( lista )"
   ]
  },
  {
   "cell_type": "code",
   "execution_count": null,
   "metadata": {},
   "outputs": [],
   "source": []
  }
 ],
 "metadata": {
  "kernelspec": {
   "display_name": "Python 3",
   "language": "python",
   "name": "python3"
  },
  "language_info": {
   "codemirror_mode": {
    "name": "ipython",
    "version": 3
   },
   "file_extension": ".py",
   "mimetype": "text/x-python",
   "name": "python",
   "nbconvert_exporter": "python",
   "pygments_lexer": "ipython3",
   "version": "3.8.3"
  }
 },
 "nbformat": 4,
 "nbformat_minor": 4
}
